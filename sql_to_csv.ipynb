{
 "cells": [
  {
   "cell_type": "code",
   "execution_count": null,
   "id": "80f11cb5",
   "metadata": {},
   "outputs": [
    {
     "name": "stdout",
     "output_type": "stream",
     "text": [
      "✔ CSV generado correctamente: poblacion.csv\n"
     ]
    }
   ],
   "source": [
    "import re\n",
    "import csv\n",
    "\n",
    "# Nombre de tu archivo SQL y el CSV de salida\n",
    "input_sql  = 'poblacion_mexico_reducido.sql'\n",
    "output_csv = 'poblacion.csv'\n",
    "\n",
    "# Regex para capturar el contenido de VALUES(...)\n",
    "pattern = re.compile(\n",
    "    r\"INSERT\\s+INTO\\s+poblacion_inegi_reducida\\s*\\(.*?\\)\\s*VALUES\\s*(.*?);\",\n",
    "    re.IGNORECASE | re.DOTALL\n",
    ")\n",
    "\n",
    "rows = []\n",
    "with open(input_sql, 'r', encoding='utf-8') as sql_file:\n",
    "    content = sql_file.read()\n",
    "    matches = pattern.findall(content)\n",
    "    for match in matches:\n",
    "        # Dividir las filas de valores\n",
    "        values_list = match.split(\"),\")\n",
    "        for values_str in values_list:\n",
    "            values_str = values_str.strip().lstrip(\"(\").rstrip(\")\")\n",
    "            if not values_str:\n",
    "                continue\n",
    "            # Usa csv.reader para respetar comillas simples y comas internas\n",
    "            reader = csv.reader(\n",
    "                [values_str],\n",
    "                delimiter=',',\n",
    "                quotechar=\"'\",\n",
    "                skipinitialspace=True\n",
    "            )\n",
    "            row = next(reader)\n",
    "            # Opcional: limpiar espacios\n",
    "            row = [col.strip() for col in row]\n",
    "            rows.append(row)\n",
    "\n",
    "# Escribe el CSV resultante\n",
    "with open(output_csv, 'w', newline='', encoding='utf-8') as csv_file:\n",
    "    writer = csv.writer(csv_file)\n",
    "    # Encabezados: ajústalos al orden y número de columnas de tus INSERT\n",
    "    writer.writerow([\n",
    "        'entidad',\n",
    "        'entidad_nombre',\n",
    "        'municipio',\n",
    "        'municipio_nombre',\n",
    "        'localidad',\n",
    "        'localidad_nombre',\n",
    "        'longitud',\n",
    "        'latitud',\n",
    "        'poblacion_total',\n",
    "        'poblacion_masculina',\n",
    "        'poblacion_femenina'\n",
    "    ])\n",
    "    writer.writerows(rows)\n",
    "\n",
    "print(f\"✔ CSV generado correctamente: {output_csv}\")"
   ]
  }
 ],
 "metadata": {
  "kernelspec": {
   "display_name": "Python 3",
   "language": "python",
   "name": "python3"
  },
  "language_info": {
   "codemirror_mode": {
    "name": "ipython",
    "version": 3
   },
   "file_extension": ".py",
   "mimetype": "text/x-python",
   "name": "python",
   "nbconvert_exporter": "python",
   "pygments_lexer": "ipython3",
   "version": "3.12.10"
  }
 },
 "nbformat": 4,
 "nbformat_minor": 5
}
